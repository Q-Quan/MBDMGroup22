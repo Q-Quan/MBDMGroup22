{
 "cells": [
  {
   "cell_type": "markdown",
   "source": [
    "MORDM OPTIMIZATION"
   ],
   "metadata": {
    "collapsed": false
   }
  },
  {
   "cell_type": "code",
   "execution_count": 8,
   "metadata": {
    "collapsed": true,
    "ExecuteTime": {
     "start_time": "2023-06-15T22:51:30.397584Z",
     "end_time": "2023-06-15T22:51:30.402575Z"
    }
   },
   "outputs": [
    {
     "data": {
      "text/plain": "<Logger EMA (DEBUG)>"
     },
     "execution_count": 8,
     "metadata": {},
     "output_type": "execute_result"
    }
   ],
   "source": [
    "from problem_formulation import get_model_for_problem_formulation\n",
    "from ema_workbench import ema_logging, MultiprocessingEvaluator, Scenario, HypervolumeMetric\n",
    "from ema_workbench.em_framework.optimization import (ArchiveLogger, EpsilonProgress, to_problem)\n",
    "\n",
    "ema_logging.log_to_stderr(ema_logging.INFO)"
   ]
  },
  {
   "cell_type": "code",
   "execution_count": 9,
   "outputs": [],
   "source": [
    "model, planning_steps = get_model_for_problem_formulation(2)\n",
    "\n",
    "#The model requires a reference scenario to \"kick-start\"\n",
    "reference_scenario = Scenario('reference', **{\n",
    "    'discount rate 0': 1.5,\n",
    "    'discount rate 1': 1.5,\n",
    "    'discount rate 2': 1.5,\n",
    "    'A.0_ID flood wave shape': 75,\n",
    "    'A.1_Bmax': 240,\n",
    "    'A.1_pfail': 0.25,\n",
    "    'A.1_Brate': 10,\n",
    "    'A.2_Bmax': 240,\n",
    "    'A.2_pfail': 0.25,\n",
    "    'A.2_Brate': 10,\n",
    "    'A.3_Bmax': 240,\n",
    "    'A.3_pfail': 0.25,\n",
    "    'A.3_Brate': 10,\n",
    "    'A.4_Bmax': 240,\n",
    "    'A.4_pfail': 0.25,\n",
    "    'A.4_Brate': 10,\n",
    "    'A.5_Bmax': 240,\n",
    "    'A.5_pfail': 0.25,\n",
    "    'A.5_Brate': 10\n",
    "})"
   ],
   "metadata": {
    "collapsed": false,
    "ExecuteTime": {
     "start_time": "2023-06-15T22:51:31.417423Z",
     "end_time": "2023-06-15T22:51:31.566991Z"
    }
   }
  },
  {
   "cell_type": "code",
   "execution_count": 10,
   "outputs": [],
   "source": [
    "convergence_metrics = [EpsilonProgress()]\n",
    "nfe = 1000\n",
    "epsilon = [0.5,0.5,0.5,0.01,0.01]\n",
    "# Each epsilon value corresponds to a model outcome. The model outcomes are:\n",
    "# expected damages, dike investment costs, rfr costs, evacuation cost, and casualties\n",
    "# We select higher epsilon values to damages and costs, while we choose lower values for evacuation costs and casualties."
   ],
   "metadata": {
    "collapsed": false,
    "ExecuteTime": {
     "start_time": "2023-06-15T22:51:32.507447Z",
     "end_time": "2023-06-15T22:51:32.515320Z"
    }
   }
  },
  {
   "cell_type": "markdown",
   "source": [
    "#Run the model using hypervolume and epsilon progress as the correct convergence metrics"
   ],
   "metadata": {
    "collapsed": false
   }
  },
  {
   "cell_type": "code",
   "execution_count": null,
   "outputs": [],
   "source": [
    "convergence_metrics = [\n",
    "    ArchiveLogger(\n",
    "        \"./MORDM_Data\",\n",
    "        [l.name for l in model.levers],\n",
    "        [o.name for o in model.outcomes],\n",
    "        base_filename=\"MORDM_HV_1.tar.gz\",\n",
    "    ),\n",
    "    EpsilonProgress(),\n",
    "]\n",
    "\n",
    "with MultiprocessingEvaluator(model) as evaluator:\n",
    "    results, convergence = evaluator.optimize(nfe=nfe, searchover='levers', epsilons=epsilon,  convergence=convergence_metrics,reference=reference_scenario)"
   ],
   "metadata": {
    "collapsed": false
   }
  },
  {
   "cell_type": "code",
   "execution_count": null,
   "outputs": [],
   "source": [
    "archives = ArchiveLogger.load_archives(\"./MORDM_Data/MORDM_HV_1.tar.gz\")"
   ],
   "metadata": {
    "collapsed": false
   }
  },
  {
   "cell_type": "code",
   "execution_count": null,
   "outputs": [],
   "source": [
    "reference_set = results\n",
    "problem = to_problem(model, searchover=\"levers\")\n",
    "\n",
    "hv = HypervolumeMetric(reference_set, problem)\n",
    "\n",
    "hypervolume = [(nfe, hv.calculate(archive)) for nfe, archive in archives.items()]\n",
    "hypervolume.sort(key=lambda x:x[0])\n",
    "hypervolume = np.asarray(hypervolume)"
   ],
   "metadata": {
    "collapsed": false,
    "ExecuteTime": {
     "start_time": "2023-06-14T22:33:56.858620Z",
     "end_time": "2023-06-14T22:33:56.861114Z"
    }
   }
  },
  {
   "cell_type": "markdown",
   "source": [
    "Plotting Hypervolume and epsilon progress"
   ],
   "metadata": {
    "collapsed": false
   }
  },
  {
   "cell_type": "code",
   "execution_count": null,
   "outputs": [],
   "source": [
    "fig, (ax1, ax2) = plt.subplots(ncols=2, sharex=True, figsize=(8,4))\n",
    "ax1.plot(convergence.nfe, convergence.epsilon_progress)\n",
    "ax1.set_ylabel('$\\epsilon$-progress')\n",
    "ax2.plot(hypervolume[:, 0], hypervolume[:, 1])\n",
    "ax2.set_ylim(ymin=0)\n",
    "ax2.set_ylabel('hypervolume')\n",
    "\n",
    "ax1.set_xlabel('number of function evaluations')\n",
    "ax2.set_xlabel('number of function evaluations')\n",
    "plt.show()"
   ],
   "metadata": {
    "collapsed": false,
    "ExecuteTime": {
     "start_time": "2023-06-14T22:37:41.283084Z",
     "end_time": "2023-06-14T22:37:41.293312Z"
    }
   }
  },
  {
   "cell_type": "markdown",
   "source": [
    "Plotting the initial pool of solutions"
   ],
   "metadata": {
    "collapsed": false
   }
  },
  {
   "cell_type": "code",
   "execution_count": null,
   "outputs": [],
   "source": [
    "from ema_workbench.analysis import parcoords\n",
    "\n",
    "data = result.loc[:, [o.name for o in model.outcomes]]\n",
    "limits = parcoords.get_limits(data)\n",
    "\n",
    "paraxes = parcoords.ParallelAxes(limits)\n",
    "paraxes.plot(data)\n",
    "plt.show()"
   ],
   "metadata": {
    "collapsed": false,
    "ExecuteTime": {
     "start_time": "2023-06-13T20:10:50.901950Z",
     "end_time": "2023-06-13T20:12:49.246351Z"
    }
   }
  },
  {
   "cell_type": "markdown",
   "source": [
    "Filtering the found solutions to those that are most important for the Delta Commission.\n",
    "Deaths should not exceed 0.001 for the entire territory, as well as adaptability measured in the form of a continuous set of measures that in the long run make sense (e.g., not following dike heightening with RfR to avoid losing the investment of the first timestep)"
   ],
   "metadata": {
    "collapsed": false
   }
  },
  {
   "cell_type": "code",
   "execution_count": null,
   "outputs": [],
   "source": [
    "# Select only those policies that result in an acceptable # of deaths\n",
    "archive_allowable_deaths = result[result['Expected Number of Deaths'] < 0.001]"
   ],
   "metadata": {
    "collapsed": false
   }
  },
  {
   "cell_type": "code",
   "execution_count": null,
   "outputs": [],
   "source": [
    "# Remove columns for outcomes from the dataframe, resulting in a df of polcies\n",
    "policies = archive_allowable_deaths.drop([o.name for o in model.outcomes], axis=1)"
   ],
   "metadata": {
    "collapsed": false
   }
  },
  {
   "cell_type": "markdown",
   "source": [
    "Plot the smaller set of solutions that comply with the constraints."
   ],
   "metadata": {
    "collapsed": false
   }
  },
  {
   "cell_type": "code",
   "execution_count": null,
   "outputs": [],
   "source": [
    "from ema_workbench.analysis import parcoords\n",
    "\n",
    "data = logical.loc[:, [o.name for o in model.outcomes]]\n",
    "limits = parcoords.get_limits(data)\n",
    "\n",
    "paraxes = parcoords.ParallelAxes(limits)\n",
    "paraxes.plot(data)\n",
    "plt.show()"
   ],
   "metadata": {
    "collapsed": false
   }
  },
  {
   "cell_type": "markdown",
   "source": [
    "Re-evaluate candidate solutions under uncertainty"
   ],
   "metadata": {
    "collapsed": false
   }
  },
  {
   "cell_type": "code",
   "execution_count": null,
   "outputs": [],
   "source": [],
   "metadata": {
    "collapsed": false
   }
  }
 ],
 "metadata": {
  "kernelspec": {
   "display_name": "Python 3",
   "language": "python",
   "name": "python3"
  },
  "language_info": {
   "codemirror_mode": {
    "name": "ipython",
    "version": 2
   },
   "file_extension": ".py",
   "mimetype": "text/x-python",
   "name": "python",
   "nbconvert_exporter": "python",
   "pygments_lexer": "ipython2",
   "version": "2.7.6"
  }
 },
 "nbformat": 4,
 "nbformat_minor": 0
}
