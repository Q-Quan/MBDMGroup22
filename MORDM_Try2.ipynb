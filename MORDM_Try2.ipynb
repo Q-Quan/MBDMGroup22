{
 "cells": [
  {
   "cell_type": "code",
   "execution_count": 1,
   "metadata": {
    "collapsed": true,
    "ExecuteTime": {
     "start_time": "2023-06-12T10:25:22.831664Z",
     "end_time": "2023-06-12T10:25:25.747270Z"
    }
   },
   "outputs": [],
   "source": [
    "#Import\n",
    "from problem_formulation import get_model_for_problem_formulation\n",
    "from ema_workbench import ema_logging, MultiprocessingEvaluator, Scenario\n",
    "from ema_workbench.em_framework.optimization import EpsilonProgress\n",
    "from ema_workbench.em_framework.evaluators import MultiprocessingEvaluator"
   ]
  },
  {
   "cell_type": "code",
   "execution_count": 4,
   "outputs": [],
   "source": [
    "#Import function\n",
    "model, planning_steps = get_model_for_problem_formulation(3)\n",
    "\n",
    "reference_scenario = Scenario('reference', **{'discount rate 0': 2.5, 'discount rate 1': 2.5, 'discount rate 2': 2.5, 'A.0_ID flood wave shape': 75, 'A.1_Bmax': 190, 'A.1_pfail': 0.5, 'A.1_Brate': 1.5, 'A.2_Bmax': 190, 'A.2_pfail': 0.5, 'A.2_Brate': 1.5, 'A.3_Bmax': 190, 'A.3_pfail': 0.5, 'A.3_Brate': 1.5, 'A.4_Bmax': 190, 'A.4_pfail': 0.5, 'A.4_Brate': 1.5, 'A.5_Bmax': 190, 'A.5_pfail': 0.5, 'A.5_Brate': 1.5})\n",
    "\n",
    "epsilon = [0.1,]*len(model.outcomes)"
   ],
   "metadata": {
    "collapsed": false,
    "ExecuteTime": {
     "start_time": "2023-06-12T10:37:24.343066Z",
     "end_time": "2023-06-12T10:37:24.422182Z"
    }
   }
  },
  {
   "cell_type": "code",
   "execution_count": null,
   "outputs": [],
   "source": [
    "ema_logging.log_to_stderr(ema_logging.INFO)\n",
    "\n",
    "with MultiprocessingEvaluator(model) as evaluator:\n",
    "    results = evaluator.optimize(nfe=5e3, searchover='levers',\n",
    "                                 epsilons=epsilon)"
   ],
   "metadata": {
    "collapsed": false
   }
  },
  {
   "cell_type": "code",
   "execution_count": null,
   "outputs": [],
   "source": [
    "from ema_workbench.analysis import parcoords\n",
    "\n",
    "data = results1.loc[:, [o.name for o in model.outcomes]]\n",
    "limits = parcoords.get_limits(data)\n",
    "\n",
    "paraxes = parcoords.ParallelAxes(limits)\n",
    "paraxes.plot(data)\n",
    "plt.show()"
   ],
   "metadata": {
    "collapsed": false
   }
  }
 ],
 "metadata": {
  "kernelspec": {
   "display_name": "Python 3",
   "language": "python",
   "name": "python3"
  },
  "language_info": {
   "codemirror_mode": {
    "name": "ipython",
    "version": 2
   },
   "file_extension": ".py",
   "mimetype": "text/x-python",
   "name": "python",
   "nbconvert_exporter": "python",
   "pygments_lexer": "ipython2",
   "version": "2.7.6"
  }
 },
 "nbformat": 4,
 "nbformat_minor": 0
}
